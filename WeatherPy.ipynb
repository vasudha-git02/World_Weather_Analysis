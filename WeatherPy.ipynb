{
 "cells": [
  {
   "cell_type": "code",
   "execution_count": 1,
   "id": "991b3e0e",
   "metadata": {},
   "outputs": [],
   "source": [
    "# import the dependencies\n",
    "import pandas as pd\n",
    "import matplotlib.pyplot as plt\n",
    "import numpy as np"
   ]
  },
  {
   "cell_type": "code",
   "execution_count": 2,
   "id": "fa3f37f9",
   "metadata": {},
   "outputs": [
    {
     "data": {
      "text/plain": [
       "<zip at 0x215bdb65e00>"
      ]
     },
     "execution_count": 2,
     "metadata": {},
     "output_type": "execute_result"
    }
   ],
   "source": [
    "# Create a set of random latitude and longitude combinations\n",
    "lats = np.random.uniform(low = -90.000,high = 90.000,size = 1500)\n",
    "lngs = np.random.uniform(low = -180.000,high = 180.000,size = 1500)\n",
    "lats_lngs = zip(lats,lngs)\n",
    "lats_lngs"
   ]
  },
  {
   "cell_type": "code",
   "execution_count": 3,
   "id": "ef090b17",
   "metadata": {},
   "outputs": [],
   "source": [
    "# Add the latitudes and longitudes to a list.\n",
    "coordinates = list(lats_lngs)"
   ]
  },
  {
   "cell_type": "code",
   "execution_count": 4,
   "id": "3a94d007",
   "metadata": {},
   "outputs": [],
   "source": [
    "from citipy import citipy"
   ]
  },
  {
   "cell_type": "code",
   "execution_count": 5,
   "id": "a1a1fd0e",
   "metadata": {},
   "outputs": [
    {
     "data": {
      "text/plain": [
       "612"
      ]
     },
     "execution_count": 5,
     "metadata": {},
     "output_type": "execute_result"
    }
   ],
   "source": [
    "# Create a list for holding the cities\n",
    "cities = []\n",
    "#Identify the nearest city for each latitude and longitude combination\n",
    "for coordinate in coordinates:\n",
    "    city = citipy.nearest_city(coordinate[0],coordinate[1]).city_name\n",
    "    \n",
    "    # If the city is unique then we will add it to the cities list\n",
    "    if city not in cities:\n",
    "        cities.append(city)\n",
    "# Print the city count to confirm sufficient count\n",
    "len(cities)"
   ]
  },
  {
   "cell_type": "code",
   "execution_count": 50,
   "id": "eb67dc62",
   "metadata": {},
   "outputs": [],
   "source": [
    "#Import the requests library\n",
    "import requests\n",
    "\n",
    "#import the API key\n",
    "from config import weather_api_key"
   ]
  },
  {
   "cell_type": "code",
   "execution_count": 51,
   "id": "dec7efaa",
   "metadata": {},
   "outputs": [],
   "source": [
    "# Starting URL for Weather Map API Call.\n",
    "url = \"http://api.openweathermap.org/data/2.5/weather?units=Imperial&APPID=\" + weather_api_key\n"
   ]
  },
  {
   "cell_type": "code",
   "execution_count": 52,
   "id": "c4eb4d0b",
   "metadata": {},
   "outputs": [],
   "source": [
    "# Create an endpoint URL for a city\n",
    "city_url = url +\"&q=\" + \"Boston\"\n"
   ]
  },
  {
   "cell_type": "code",
   "execution_count": 53,
   "id": "2209fbce",
   "metadata": {},
   "outputs": [
    {
     "data": {
      "text/plain": [
       "200"
      ]
     },
     "execution_count": 53,
     "metadata": {},
     "output_type": "execute_result"
    }
   ],
   "source": [
    "# Make a 'Get' request for the city weather\n",
    "city_weather = requests.get(city_url)\n",
    "city_weather.status_code"
   ]
  },
  {
   "cell_type": "code",
   "execution_count": 54,
   "id": "0250d5b4",
   "metadata": {},
   "outputs": [
    {
     "data": {
      "text/plain": [
       "<Response [200]>"
      ]
     },
     "execution_count": 54,
     "metadata": {},
     "output_type": "execute_result"
    }
   ],
   "source": [
    "# Create an endpoint URL for a city.\n",
    "city_url = url + \"&q=\" + \"Boston\"\n",
    "city_weather = requests.get(city_url)\n",
    "city_weather"
   ]
  },
  {
   "cell_type": "code",
   "execution_count": 55,
   "id": "10a9f35e",
   "metadata": {},
   "outputs": [
    {
     "data": {
      "text/plain": [
       "'{\"coord\":{\"lon\":-71.0598,\"lat\":42.3584},\"weather\":[{\"id\":802,\"main\":\"Clouds\",\"description\":\"scattered clouds\",\"icon\":\"03d\"}],\"base\":\"stations\",\"main\":{\"temp\":79.75,\"feels_like\":79.75,\"temp_min\":75.31,\"temp_max\":83.79,\"pressure\":1009,\"humidity\":47},\"visibility\":10000,\"wind\":{\"speed\":12.66,\"deg\":300},\"clouds\":{\"all\":40},\"dt\":1654717776,\"sys\":{\"type\":2,\"id\":2013408,\"country\":\"US\",\"sunrise\":1654679262,\"sunset\":1654733950},\"timezone\":-14400,\"id\":4930956,\"name\":\"Boston\",\"cod\":200}'"
      ]
     },
     "execution_count": 55,
     "metadata": {},
     "output_type": "execute_result"
    }
   ],
   "source": [
    "# Get the test of the 'Get' request\n",
    "city_weather.text"
   ]
  },
  {
   "cell_type": "code",
   "execution_count": 56,
   "id": "7ac84548",
   "metadata": {},
   "outputs": [
    {
     "data": {
      "text/plain": [
       "{'coord': {'lon': -71.0598, 'lat': 42.3584},\n",
       " 'weather': [{'id': 802,\n",
       "   'main': 'Clouds',\n",
       "   'description': 'scattered clouds',\n",
       "   'icon': '03d'}],\n",
       " 'base': 'stations',\n",
       " 'main': {'temp': 79.75,\n",
       "  'feels_like': 79.75,\n",
       "  'temp_min': 75.31,\n",
       "  'temp_max': 83.79,\n",
       "  'pressure': 1009,\n",
       "  'humidity': 47},\n",
       " 'visibility': 10000,\n",
       " 'wind': {'speed': 12.66, 'deg': 300},\n",
       " 'clouds': {'all': 40},\n",
       " 'dt': 1654717776,\n",
       " 'sys': {'type': 2,\n",
       "  'id': 2013408,\n",
       "  'country': 'US',\n",
       "  'sunrise': 1654679262,\n",
       "  'sunset': 1654733950},\n",
       " 'timezone': -14400,\n",
       " 'id': 4930956,\n",
       " 'name': 'Boston',\n",
       " 'cod': 200}"
      ]
     },
     "execution_count": 56,
     "metadata": {},
     "output_type": "execute_result"
    }
   ],
   "source": [
    "# Get the JSON text of the 'Get' request\n",
    "city_weather.json()"
   ]
  },
  {
   "cell_type": "code",
   "execution_count": 57,
   "id": "7375d423",
   "metadata": {},
   "outputs": [
    {
     "name": "stdout",
     "output_type": "stream",
     "text": [
      "City weather found.\n"
     ]
    }
   ],
   "source": [
    "# Create an endpoint URL for a city\n",
    "city_url = url +\"&q=\" + \"Boston\"\n",
    "city_weather = requests.get(city_url)\n",
    "if city_weather.status_code == 200:\n",
    "    print(f\"City weather found.\")\n",
    "    \n",
    "else:\n",
    "    print(f\"City weather not found.\")\n",
    "    \n",
    "#     print(city_url)"
   ]
  },
  {
   "cell_type": "code",
   "execution_count": 58,
   "id": "b778a431",
   "metadata": {},
   "outputs": [
    {
     "data": {
      "text/plain": [
       "{'coord': {'lon': -71.0598, 'lat': 42.3584},\n",
       " 'weather': [{'id': 802,\n",
       "   'main': 'Clouds',\n",
       "   'description': 'scattered clouds',\n",
       "   'icon': '03d'}],\n",
       " 'base': 'stations',\n",
       " 'main': {'temp': 79.75,\n",
       "  'feels_like': 79.75,\n",
       "  'temp_min': 75.31,\n",
       "  'temp_max': 83.79,\n",
       "  'pressure': 1009,\n",
       "  'humidity': 47},\n",
       " 'visibility': 10000,\n",
       " 'wind': {'speed': 12.66, 'deg': 300},\n",
       " 'clouds': {'all': 40},\n",
       " 'dt': 1654717776,\n",
       " 'sys': {'type': 2,\n",
       "  'id': 2013408,\n",
       "  'country': 'US',\n",
       "  'sunrise': 1654679262,\n",
       "  'sunset': 1654733950},\n",
       " 'timezone': -14400,\n",
       " 'id': 4930956,\n",
       " 'name': 'Boston',\n",
       " 'cod': 200}"
      ]
     },
     "execution_count": 58,
     "metadata": {},
     "output_type": "execute_result"
    }
   ],
   "source": [
    "# Create an endpoint URL for a city.\n",
    "city_url = url + \"&q=\" + \"Boston\"\n",
    "city_weather = requests.get(city_url)\n",
    "city_weather.json()"
   ]
  },
  {
   "cell_type": "code",
   "execution_count": 59,
   "id": "4bea65aa",
   "metadata": {},
   "outputs": [],
   "source": [
    "# Get the json data\n",
    "boston_data = city_weather.json()"
   ]
  },
  {
   "cell_type": "code",
   "execution_count": 60,
   "id": "449c2e95",
   "metadata": {},
   "outputs": [
    {
     "data": {
      "text/plain": [
       "{'type': 2,\n",
       " 'id': 2013408,\n",
       " 'country': 'US',\n",
       " 'sunrise': 1654679262,\n",
       " 'sunset': 1654733950}"
      ]
     },
     "execution_count": 60,
     "metadata": {},
     "output_type": "execute_result"
    }
   ],
   "source": [
    "boston_data[\"sys\"]"
   ]
  },
  {
   "cell_type": "code",
   "execution_count": 61,
   "id": "c14bbc92",
   "metadata": {},
   "outputs": [
    {
     "data": {
      "text/plain": [
       "'US'"
      ]
     },
     "execution_count": 61,
     "metadata": {},
     "output_type": "execute_result"
    }
   ],
   "source": [
    "boston_data[\"sys\"][\"country\"]"
   ]
  },
  {
   "cell_type": "code",
   "execution_count": 62,
   "id": "137e1ed1",
   "metadata": {},
   "outputs": [
    {
     "data": {
      "text/plain": [
       "1654717776"
      ]
     },
     "execution_count": 62,
     "metadata": {},
     "output_type": "execute_result"
    }
   ],
   "source": [
    "boston_data[\"dt\"]"
   ]
  },
  {
   "cell_type": "code",
   "execution_count": 63,
   "id": "c2ea81ad",
   "metadata": {},
   "outputs": [
    {
     "name": "stdout",
     "output_type": "stream",
     "text": [
      "42.3584 -71.0598 83.79 47 40 12.66\n"
     ]
    }
   ],
   "source": [
    "lat = boston_data[\"coord\"][\"lat\"]\n",
    "lng = boston_data[\"coord\"][\"lon\"]\n",
    "max_temp = boston_data[\"main\"][\"temp_max\"]\n",
    "humidity = boston_data[\"main\"][\"humidity\"]\n",
    "cloud =  boston_data[\"clouds\"][\"all\"]\n",
    "wind = boston_data[\"wind\"][\"speed\"]\n",
    "print(lat,lng,max_temp,humidity,cloud,wind)"
   ]
  },
  {
   "cell_type": "code",
   "execution_count": 64,
   "id": "568b4d0a",
   "metadata": {},
   "outputs": [
    {
     "data": {
      "text/plain": [
       "'2022-06-08 19:49:36'"
      ]
     },
     "execution_count": 64,
     "metadata": {},
     "output_type": "execute_result"
    }
   ],
   "source": [
    "# Import the datetime module from the datetime library.\n",
    "from datetime import datetime\n",
    "# Get the date from the JSON file.\n",
    "date = boston_data[\"dt\"]\n",
    "# Convert the UTC date to a date format with year, month, day, hours, minutes, and seconds.\n",
    "datetime.utcfromtimestamp(date).strftime('%Y-%m-%d %H:%M:%S')"
   ]
  },
  {
   "cell_type": "code",
   "execution_count": 65,
   "id": "b00fde51",
   "metadata": {},
   "outputs": [],
   "source": [
    "# Import the time library and the datetime module from the datetime library\n",
    "import time\n",
    "from datetime import datetime"
   ]
  },
  {
   "cell_type": "code",
   "execution_count": null,
   "id": "976a3337",
   "metadata": {},
   "outputs": [
    {
     "name": "stdout",
     "output_type": "stream",
     "text": [
      "Beginning Data Retrieval   \n",
      "----------------------------\n",
      "Processing Record 1 of Set 1|mahadday weyne\n",
      "City not found. Skipping...\n",
      "Processing Record 2 of Set 1|kapaa\n",
      "Processing Record 3 of Set 1|bluff\n",
      "Processing Record 4 of Set 1|souillac\n",
      "Processing Record 5 of Set 1|kodiak\n",
      "Processing Record 6 of Set 1|mirebalais\n",
      "Processing Record 7 of Set 1|ishigaki\n",
      "Processing Record 8 of Set 1|taolanaro\n",
      "City not found. Skipping...\n",
      "Processing Record 9 of Set 1|gao\n",
      "Processing Record 10 of Set 1|shimoda\n",
      "Processing Record 11 of Set 1|castro\n",
      "Processing Record 12 of Set 1|busselton\n",
      "Processing Record 13 of Set 1|bethel\n",
      "Processing Record 14 of Set 1|butaritari\n",
      "Processing Record 15 of Set 1|rikitea\n",
      "Processing Record 16 of Set 1|ranfurly\n",
      "Processing Record 17 of Set 1|cayenne\n",
      "Processing Record 18 of Set 1|severo-kurilsk\n",
      "Processing Record 19 of Set 1|san cristobal\n",
      "Processing Record 20 of Set 1|beni suef\n",
      "Processing Record 21 of Set 1|bintulu\n",
      "Processing Record 22 of Set 1|nanortalik\n",
      "Processing Record 23 of Set 1|faanui\n",
      "Processing Record 24 of Set 1|ponta delgada\n",
      "Processing Record 25 of Set 1|sola\n",
      "Processing Record 26 of Set 1|malindi\n",
      "Processing Record 27 of Set 1|punta arenas\n",
      "Processing Record 28 of Set 1|jamestown\n",
      "Processing Record 29 of Set 1|ushuaia\n",
      "Processing Record 30 of Set 1|mataura\n",
      "Processing Record 31 of Set 1|romodanovo\n",
      "Processing Record 32 of Set 1|kaitangata\n",
      "Processing Record 33 of Set 1|port alfred\n",
      "Processing Record 34 of Set 1|aklavik\n",
      "Processing Record 35 of Set 1|tumannyy\n",
      "City not found. Skipping...\n",
      "Processing Record 36 of Set 1|cape town\n",
      "Processing Record 37 of Set 1|jumla\n",
      "Processing Record 38 of Set 1|beyneu\n",
      "Processing Record 39 of Set 1|rio gallegos\n",
      "Processing Record 40 of Set 1|bambous virieux\n",
      "Processing Record 41 of Set 1|kruisfontein\n",
      "Processing Record 42 of Set 1|norman wells\n",
      "Processing Record 43 of Set 1|talnakh\n",
      "Processing Record 44 of Set 1|ahtopol\n",
      "Processing Record 45 of Set 1|clyde river\n",
      "Processing Record 46 of Set 1|lavrentiya\n",
      "Processing Record 47 of Set 1|saint-pierre\n",
      "Processing Record 48 of Set 1|abomsa\n",
      "Processing Record 49 of Set 1|trojan\n",
      "Processing Record 50 of Set 1|zimovniki\n",
      "Processing Record 1 of Set 2|lolua\n",
      "City not found. Skipping...\n",
      "Processing Record 2 of Set 2|ngukurr\n",
      "City not found. Skipping...\n",
      "Processing Record 3 of Set 2|uzhur\n",
      "Processing Record 4 of Set 2|hithadhoo\n",
      "Processing Record 5 of Set 2|muros\n",
      "Processing Record 6 of Set 2|longyearbyen\n",
      "Processing Record 7 of Set 2|husavik\n",
      "Processing Record 8 of Set 2|vestmannaeyjar\n",
      "Processing Record 9 of Set 2|atbasar\n",
      "Processing Record 10 of Set 2|olafsvik\n",
      "Processing Record 11 of Set 2|leningradskiy\n",
      "Processing Record 12 of Set 2|geraldton\n",
      "Processing Record 13 of Set 2|kavaratti\n",
      "Processing Record 14 of Set 2|arraial do cabo\n",
      "Processing Record 15 of Set 2|dingle\n",
      "Processing Record 16 of Set 2|tasiilaq\n",
      "Processing Record 17 of Set 2|platteville\n",
      "Processing Record 18 of Set 2|sitka\n",
      "Processing Record 19 of Set 2|east london\n",
      "Processing Record 20 of Set 2|ancud\n",
      "Processing Record 21 of Set 2|bodo\n",
      "Processing Record 22 of Set 2|tigil\n",
      "Processing Record 23 of Set 2|dujuma\n",
      "City not found. Skipping...\n",
      "Processing Record 24 of Set 2|shiraoi\n",
      "Processing Record 25 of Set 2|ribeira grande\n",
      "Processing Record 26 of Set 2|amderma\n",
      "City not found. Skipping...\n",
      "Processing Record 27 of Set 2|elesbao veloso\n",
      "Processing Record 28 of Set 2|albany\n",
      "Processing Record 29 of Set 2|avarua\n",
      "Processing Record 30 of Set 2|thompson\n",
      "Processing Record 31 of Set 2|port-gentil\n",
      "Processing Record 32 of Set 2|tilichiki\n",
      "Processing Record 33 of Set 2|hilo\n",
      "Processing Record 34 of Set 2|hermanus\n",
      "Processing Record 35 of Set 2|new norfolk\n",
      "Processing Record 36 of Set 2|cap-aux-meules\n",
      "Processing Record 37 of Set 2|gravdal\n",
      "Processing Record 38 of Set 2|yuzhou\n",
      "Processing Record 39 of Set 2|hervey bay\n",
      "Processing Record 40 of Set 2|atuona\n",
      "Processing Record 41 of Set 2|qaanaaq\n",
      "Processing Record 42 of Set 2|vila franca do campo\n",
      "Processing Record 43 of Set 2|mehamn\n",
      "Processing Record 44 of Set 2|osypenko\n",
      "Processing Record 45 of Set 2|chara\n",
      "Processing Record 46 of Set 2|aksarka\n",
      "Processing Record 47 of Set 2|rafai\n",
      "Processing Record 48 of Set 2|barentsburg\n",
      "City not found. Skipping...\n",
      "Processing Record 49 of Set 2|beidao\n",
      "Processing Record 50 of Set 2|nizhniy odes\n",
      "Processing Record 1 of Set 3|pong\n",
      "Processing Record 2 of Set 3|mar del plata\n",
      "Processing Record 3 of Set 3|bereda\n",
      "Processing Record 4 of Set 3|trairi\n",
      "Processing Record 5 of Set 3|saskylakh\n",
      "Processing Record 6 of Set 3|atar\n",
      "Processing Record 7 of Set 3|belushya guba\n",
      "City not found. Skipping...\n",
      "Processing Record 8 of Set 3|namibe\n",
      "Processing Record 9 of Set 3|renqiu\n",
      "Processing Record 10 of Set 3|tuktoyaktuk\n",
      "Processing Record 11 of Set 3|montlucon\n",
      "Processing Record 12 of Set 3|henties bay\n",
      "Processing Record 13 of Set 3|avera\n",
      "Processing Record 14 of Set 3|okha\n",
      "Processing Record 15 of Set 3|kavieng\n",
      "Processing Record 16 of Set 3|bilma\n",
      "Processing Record 17 of Set 3|fairbanks\n",
      "Processing Record 18 of Set 3|nemuro\n",
      "Processing Record 19 of Set 3|mitsamiouli\n",
      "Processing Record 20 of Set 3|yar-sale\n",
      "Processing Record 21 of Set 3|saint-philippe\n",
      "Processing Record 22 of Set 3|baboua\n",
      "City not found. Skipping...\n",
      "Processing Record 23 of Set 3|bengkulu\n",
      "Processing Record 24 of Set 3|ahipara\n",
      "Processing Record 25 of Set 3|yellowknife\n",
      "Processing Record 26 of Set 3|hobart\n",
      "Processing Record 27 of Set 3|puerto ayora\n",
      "Processing Record 28 of Set 3|ninotsminda\n",
      "Processing Record 29 of Set 3|sovetskiy\n",
      "Processing Record 30 of Set 3|coari\n",
      "Processing Record 31 of Set 3|ulladulla\n",
      "Processing Record 32 of Set 3|lavumisa\n",
      "Processing Record 33 of Set 3|vaini\n",
      "Processing Record 34 of Set 3|faya\n",
      "Processing Record 35 of Set 3|broome\n",
      "Processing Record 36 of Set 3|vanavara\n",
      "Processing Record 37 of Set 3|road town\n",
      "Processing Record 38 of Set 3|marzuq\n",
      "Processing Record 39 of Set 3|roslyakovo\n",
      "Processing Record 40 of Set 3|yalta\n",
      "Processing Record 41 of Set 3|klaksvik\n",
      "Processing Record 42 of Set 3|bredasdorp\n",
      "Processing Record 43 of Set 3|sandur\n",
      "Processing Record 44 of Set 3|zyryanka\n",
      "Processing Record 45 of Set 3|fortuna\n",
      "Processing Record 46 of Set 3|isakly\n",
      "Processing Record 47 of Set 3|laguna\n",
      "Processing Record 48 of Set 3|madinat sittah uktubar\n",
      "Processing Record 49 of Set 3|ukiah\n",
      "Processing Record 50 of Set 3|tolaga bay\n"
     ]
    }
   ],
   "source": [
    "#create a empty list to hold the weather data\n",
    "city_data = []\n",
    "# Print the beginning of the logging\n",
    "print(\"Beginning Data Retrieval   \")\n",
    "print(\"----------------------------\")\n",
    "\n",
    "#Create counter\n",
    "record_count = 1\n",
    "set_count = 1\n",
    "\n",
    "# Loop through all the cities in our list\n",
    "for i,city in enumerate(cities):\n",
    "    \n",
    "    #Group cities in sets of 50 for logging purposes\n",
    "    if(i % 50 == 0 and i>= 50):\n",
    "        set_count += 1\n",
    "        record_count = 1\n",
    "        time.sleep(60)\n",
    "        \n",
    "    # Create endpoint URL with each city\n",
    "    city_url = url +\"&q=\" + city.replace(\" \",\"+\")\n",
    "    \n",
    "    #Log the URL, record, set number and the city\n",
    "    print(f\"Processing Record {record_count} of Set {set_count}|{city}\")\n",
    "    # Add 1 to the record count\n",
    "    record_count += 1\n",
    "# Run an API request for each of the cities.\n",
    "    try:\n",
    "        # Parse the JSON and retrieve data.\n",
    "        city_weather = requests.get(city_url).json()\n",
    "        # Parse out the needed data.\n",
    "        city_lat = city_weather[\"coord\"][\"lat\"]\n",
    "        city_lng = city_weather[\"coord\"][\"lon\"]\n",
    "        city_max_temp = city_weather[\"main\"][\"temp_max\"]\n",
    "        city_humidity = city_weather[\"main\"][\"humidity\"]\n",
    "        city_clouds = city_weather[\"clouds\"][\"all\"]\n",
    "        city_wind = city_weather[\"wind\"][\"speed\"]\n",
    "        city_country = city_weather[\"sys\"][\"country\"]\n",
    "        # Convert the date to ISO standard.\n",
    "        city_date = datetime.utcfromtimestamp(city_weather[\"dt\"]).strftime('%Y-%m-%d %H:%M:%S')\n",
    "        # Append the city information into city_data list.\n",
    "        city_data.append({\"City\": city.title(),\n",
    "                          \"Lat\": city_lat,\n",
    "                          \"Lng\": city_lng,\n",
    "                          \"Max Temp\": city_max_temp,\n",
    "                          \"Humidity\": city_humidity,\n",
    "                          \"Cloudiness\": city_clouds,\n",
    "                          \"Wind Speed\": city_wind,\n",
    "                          \"Country\": city_country,\n",
    "                          \"Date\": city_date})\n",
    "\n",
    "# If an error is experienced, skip the city.\n",
    "    except:\n",
    "        print(\"City not found. Skipping...\")\n",
    "        pass\n",
    "\n",
    "# Indicate that Data Loading is complete.\n",
    "print(\"-----------------------------\")\n",
    "print(\"Data Retrieval Complete      \")\n",
    "print(\"-----------------------------\")\n",
    "pass"
   ]
  },
  {
   "cell_type": "code",
   "execution_count": null,
   "id": "463af7ce",
   "metadata": {},
   "outputs": [],
   "source": [
    "len(city_data)"
   ]
  },
  {
   "cell_type": "code",
   "execution_count": null,
   "id": "adf5e70e",
   "metadata": {},
   "outputs": [],
   "source": [
    "# Convert the array of dictionaries to a pandas dataframe\n",
    "city_data_df = pd.DataFrame(city_data)\n",
    "city_data_df.head(10)"
   ]
  },
  {
   "cell_type": "code",
   "execution_count": null,
   "id": "ca524aa9",
   "metadata": {},
   "outputs": [],
   "source": [
    "new_column_order = [\"City\",\"Country\",\"Date\",\"Lat\",\"Lng\",\"Max Temp\",\"Humidity\",\"Cloudiness\",\"Wind Speed\"]\n",
    "city_data_df = city_data_df[new_column_order]"
   ]
  },
  {
   "cell_type": "code",
   "execution_count": null,
   "id": "2b0ddaf7",
   "metadata": {},
   "outputs": [],
   "source": [
    "city_data_df.head(20)"
   ]
  },
  {
   "cell_type": "code",
   "execution_count": 48,
   "id": "a2f62c90",
   "metadata": {},
   "outputs": [],
   "source": [
    "# Create the output file (CSV).\n",
    "output_data_file = \"weather_data/cities.csv\"\n",
    "# Export the City_Data into a CSV.\n",
    "city_data_df.to_csv(output_data_file, index_label=\"City_ID\")"
   ]
  },
  {
   "cell_type": "code",
   "execution_count": null,
   "id": "684e915c",
   "metadata": {},
   "outputs": [],
   "source": []
  }
 ],
 "metadata": {
  "kernelspec": {
   "display_name": "PythonData",
   "language": "python",
   "name": "pythondata"
  },
  "language_info": {
   "codemirror_mode": {
    "name": "ipython",
    "version": 3
   },
   "file_extension": ".py",
   "mimetype": "text/x-python",
   "name": "python",
   "nbconvert_exporter": "python",
   "pygments_lexer": "ipython3",
   "version": "3.9.12"
  }
 },
 "nbformat": 4,
 "nbformat_minor": 5
}
