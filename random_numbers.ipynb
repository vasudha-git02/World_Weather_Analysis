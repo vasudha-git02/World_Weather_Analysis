{
 "cells": [
  {
   "cell_type": "code",
   "execution_count": 1,
   "id": "89999aeb",
   "metadata": {},
   "outputs": [],
   "source": [
    "#Import the random module\n",
    "import random"
   ]
  },
  {
   "cell_type": "code",
   "execution_count": 2,
   "id": "8d60ee81",
   "metadata": {},
   "outputs": [
    {
     "data": {
      "text/plain": [
       "17"
      ]
     },
     "execution_count": 2,
     "metadata": {},
     "output_type": "execute_result"
    }
   ],
   "source": [
    "random.randint(-90,90)"
   ]
  },
  {
   "cell_type": "code",
   "execution_count": 3,
   "id": "ede24982",
   "metadata": {},
   "outputs": [
    {
     "data": {
      "text/plain": [
       "0.6334404898192367"
      ]
     },
     "execution_count": 3,
     "metadata": {},
     "output_type": "execute_result"
    }
   ],
   "source": [
    "random.random()"
   ]
  },
  {
   "cell_type": "code",
   "execution_count": 4,
   "id": "ba0de9a3",
   "metadata": {},
   "outputs": [
    {
     "data": {
      "text/plain": [
       "-32.47236744895448"
      ]
     },
     "execution_count": 4,
     "metadata": {},
     "output_type": "execute_result"
    }
   ],
   "source": [
    "random_number = random.randint(-90,89)+random.random()\n",
    "random_number"
   ]
  },
  {
   "cell_type": "code",
   "execution_count": 6,
   "id": "a575d659",
   "metadata": {},
   "outputs": [
    {
     "data": {
      "text/plain": [
       "[87.28946071030397,\n",
       " -16.206873846578038,\n",
       " 20.991360558978137,\n",
       " -66.78014328035157,\n",
       " -6.946942599394192,\n",
       " -22.082159593180005,\n",
       " 54.65243138747276,\n",
       " 20.81841919665013,\n",
       " -61.682640004477534,\n",
       " 8.69678146855053]"
      ]
     },
     "execution_count": 6,
     "metadata": {},
     "output_type": "execute_result"
    }
   ],
   "source": [
    "x=1\n",
    "latitudes = []\n",
    "while x< 11:\n",
    "    random_lat = random.randint(-90,89)+random.random()\n",
    "    latitudes.append(random_lat)\n",
    "    x += 1\n",
    "latitudes"
   ]
  },
  {
   "cell_type": "code",
   "execution_count": 8,
   "id": "2965f6cf",
   "metadata": {},
   "outputs": [
    {
     "data": {
      "text/plain": [
       "45"
      ]
     },
     "execution_count": 8,
     "metadata": {},
     "output_type": "execute_result"
    }
   ],
   "source": [
    "random.randrange(-90,90,step=3)"
   ]
  },
  {
   "cell_type": "code",
   "execution_count": 9,
   "id": "5b81687c",
   "metadata": {},
   "outputs": [
    {
     "data": {
      "text/plain": [
       "15.79513105006292"
      ]
     },
     "execution_count": 9,
     "metadata": {},
     "output_type": "execute_result"
    }
   ],
   "source": [
    "random.uniform(-90,90)"
   ]
  },
  {
   "cell_type": "code",
   "execution_count": 12,
   "id": "d2147923",
   "metadata": {},
   "outputs": [
    {
     "data": {
      "text/plain": [
       "54.340464661025266"
      ]
     },
     "execution_count": 12,
     "metadata": {},
     "output_type": "execute_result"
    }
   ],
   "source": [
    "import numpy as np\n",
    "np.random.uniform(-90.000,90.000)"
   ]
  },
  {
   "cell_type": "code",
   "execution_count": 13,
   "id": "c95662b5",
   "metadata": {},
   "outputs": [
    {
     "data": {
      "text/plain": [
       "array([ 35.37772183, -50.69835338,   4.07536185,  74.14273414,\n",
       "        73.76233498, -65.68089277,  36.92201406,  -5.38215216,\n",
       "       -51.31779559,  78.67684593,  -3.29153658, -40.55473415,\n",
       "        46.42091773,  58.69264626,  42.787648  ,  86.89299648,\n",
       "       -76.65736795, -14.4886581 , -48.75157368,  19.96758974,\n",
       "        20.46511208, -89.78937155, -61.21885094,  51.93978719,\n",
       "        39.66666794,  83.72357793, -38.15932111, -26.0054659 ,\n",
       "       -15.65968152,  14.19517103,  -7.82575029,  41.99894983,\n",
       "         1.99316463, -75.88102061,  20.68562919,  34.77434717,\n",
       "        85.577008  ,  61.67693998, -14.97230413, -57.76644498,\n",
       "       -34.25233517, -10.14280185, -18.71611995, -70.15978843,\n",
       "        60.70359885, -63.98365673,  20.00602512,  13.99587213,\n",
       "       -79.06228426, -32.63534436])"
      ]
     },
     "execution_count": 13,
     "metadata": {},
     "output_type": "execute_result"
    }
   ],
   "source": [
    "np.random.uniform(-90,90,size = 50)"
   ]
  },
  {
   "cell_type": "code",
   "execution_count": 14,
   "id": "c25040c7",
   "metadata": {},
   "outputs": [],
   "source": [
    "# import timit\n",
    "import timeit"
   ]
  },
  {
   "cell_type": "code",
   "execution_count": 16,
   "id": "750ee777",
   "metadata": {},
   "outputs": [
    {
     "name": "stdout",
     "output_type": "stream",
     "text": [
      "48.2 µs ± 720 ns per loop (mean ± std. dev. of 7 runs, 10,000 loops each)\n"
     ]
    }
   ],
   "source": [
    "%timeit np.random.uniform(-90.000,90.000,size = 1500)"
   ]
  },
  {
   "cell_type": "code",
   "execution_count": 19,
   "id": "458ef511",
   "metadata": {},
   "outputs": [
    {
     "name": "stdout",
     "output_type": "stream",
     "text": [
      "4.57 ms ± 78 µs per loop (mean ± std. dev. of 7 runs, 100 loops each)\n"
     ]
    }
   ],
   "source": [
    "def latitudes(size):\n",
    "    latitudes = []\n",
    "    x = 0\n",
    "    while x < (size):\n",
    "        random_lat = random.randint(-90, 90) + random.random()\n",
    "        latitudes.append(random_lat)\n",
    "        x += 1\n",
    "    return latitudes\n",
    "# Call the function with 1500.\n",
    "%timeit latitudes(1500)\n",
    "    "
   ]
  },
  {
   "cell_type": "code",
   "execution_count": null,
   "id": "66161f84",
   "metadata": {},
   "outputs": [],
   "source": []
  }
 ],
 "metadata": {
  "kernelspec": {
   "display_name": "PythonData",
   "language": "python",
   "name": "pythondata"
  },
  "language_info": {
   "codemirror_mode": {
    "name": "ipython",
    "version": 3
   },
   "file_extension": ".py",
   "mimetype": "text/x-python",
   "name": "python",
   "nbconvert_exporter": "python",
   "pygments_lexer": "ipython3",
   "version": "3.9.12"
  }
 },
 "nbformat": 4,
 "nbformat_minor": 5
}
